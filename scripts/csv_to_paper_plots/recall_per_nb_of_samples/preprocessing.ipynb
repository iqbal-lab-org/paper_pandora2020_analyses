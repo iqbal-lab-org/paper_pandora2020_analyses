{
 "cells": [
  {
   "cell_type": "code",
   "execution_count": 1,
   "metadata": {},
   "outputs": [],
   "source": [
    "import pandas as pd"
   ]
  },
  {
   "cell_type": "code",
   "execution_count": 2,
   "metadata": {},
   "outputs": [],
   "source": [
    "df_pvr_illumina = pd.read_csv(\"../pandora1_paper_analysis_output_20_way/illumina_analysis/recall_per_nb_of_samples/recall_per_nb_of_samples_pvr.plot_data.csv\")\n",
    "df_pvr_nanopore = pd.read_csv(\"../pandora1_paper_analysis_output_20_way/nanopore_analysis/recall_per_nb_of_samples/recall_per_nb_of_samples_pvr.plot_data.csv\")\n",
    "df_avgar_illumina = pd.read_csv(\"../pandora1_paper_analysis_output_20_way/illumina_analysis/recall_per_nb_of_samples/recall_per_nb_of_samples_avgar.plot_data.csv\")\n",
    "df_avgar_nanopore = pd.read_csv(\"../pandora1_paper_analysis_output_20_way/nanopore_analysis/recall_per_nb_of_samples/recall_per_nb_of_samples_avgar.plot_data.csv\")\n"
   ]
  },
  {
   "cell_type": "code",
   "execution_count": 3,
   "metadata": {},
   "outputs": [],
   "source": [
    "def get_tool_category(tool):\n",
    "    if \"pandora\" in tool and \"nodenovo\" in tool:\n",
    "        return \"pandora no denovo\"\n",
    "    elif \"pandora\" in tool and \"withdenovo\" in tool:\n",
    "        return \"pandora with denovo\"\n",
    "    else:\n",
    "        return tool.split(\"_\")[0]\n",
    "    \n",
    "def cleanup_pvr_df(df):\n",
    "    return df[[\"tool_long_description\", \"tool\", \"NUMBER_OF_SAMPLES\", \"nb_of_found_PanVar\", \"recall_PVR\"]]\n",
    "def cleanup_avgar_df(df):\n",
    "    return df[[\"tool_long_description\", \"tool\", \"NUMBER_OF_SAMPLES\", \"recall_AvgAR\"]]\n",
    "\n",
    "def process_df(df, pvr):\n",
    "    # remove nodenovo results\n",
    "    df = df[df.tool!=\"pandora_illumina_nodenovo_global_genotyping\"]\n",
    "    df = df[df.tool!=\"pandora_nanopore_nodenovo_global_genotyping\"]\n",
    "    \n",
    "    # add tool_category column\n",
    "    df[\"tool_long_description\"] = df[\"tool\"]\n",
    "    df[\"tool\"] = df[\"tool_long_description\"].apply(get_tool_category)\n",
    "    \n",
    "    if pvr:\n",
    "        df = cleanup_pvr_df(df)\n",
    "    else:\n",
    "        df = cleanup_avgar_df(df)\n",
    "    \n",
    "    return df\n",
    "    \n",
    "df_pvr_illumina = process_df(df_pvr_illumina, True)\n",
    "df_pvr_nanopore = process_df(df_pvr_nanopore, True)\n",
    "df_avgar_illumina = process_df(df_avgar_illumina, False)\n",
    "df_avgar_nanopore = process_df(df_avgar_nanopore, False)"
   ]
  },
  {
   "cell_type": "code",
   "execution_count": 4,
   "metadata": {},
   "outputs": [],
   "source": [
    "# do some merges\n",
    "df_illumina = df_pvr_illumina.merge(df_avgar_illumina, on=[\"tool_long_description\", \"tool\", \"NUMBER_OF_SAMPLES\"])\n",
    "df_nanopore = df_pvr_nanopore.merge(df_avgar_nanopore, on=[\"tool_long_description\", \"tool\", \"NUMBER_OF_SAMPLES\"])"
   ]
  },
  {
   "cell_type": "code",
   "execution_count": 5,
   "metadata": {},
   "outputs": [],
   "source": [
    "# save to csvs\n",
    "df_illumina.to_csv(\"df_illumina.R_data.csv\", index=False)\n",
    "df_nanopore.to_csv(\"df_nanopore.R_data.csv\", index=False)\n"
   ]
  }
 ],
 "metadata": {
  "kernelspec": {
   "display_name": "Python 3",
   "language": "python",
   "name": "python3"
  },
  "language_info": {
   "codemirror_mode": {
    "name": "ipython",
    "version": 3
   },
   "file_extension": ".py",
   "mimetype": "text/x-python",
   "name": "python",
   "nbconvert_exporter": "python",
   "pygments_lexer": "ipython3",
   "version": "3.7.3"
  }
 },
 "nbformat": 4,
 "nbformat_minor": 4
}
